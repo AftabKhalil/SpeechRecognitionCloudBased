{
 "cells": [
  {
   "cell_type": "markdown",
   "metadata": {
    "id": "9QXsrr6Mp5e_"
   },
   "source": [
    "# MNIST Model"
   ]
  },
  {
   "cell_type": "code",
   "execution_count": 1,
   "metadata": {
    "id": "YBGOnz5NpiTw"
   },
   "outputs": [],
   "source": [
    "from __future__ import print_function\n",
    "import argparse\n",
    "import torch\n",
    "import torch.nn as nn\n",
    "import torch.nn.functional as F\n",
    "import torch.optim as optim\n",
    "from torchvision import datasets, transforms\n",
    "\n",
    "\n",
    "class Net(nn.Module):\n",
    "    def __init__(self, mnist=True):\n",
    "      \n",
    "        super(Net, self).__init__()\n",
    "        if mnist:\n",
    "          num_channels = 1\n",
    "        else:\n",
    "          num_channels = 3\n",
    "          \n",
    "        self.conv1 = nn.Conv2d(num_channels, 20, 5, 1)\n",
    "        self.conv2 = nn.Conv2d(20, 50, 5, 1)\n",
    "        if mnist:\n",
    "          self.fc1 = nn.Linear(4*4*50, 500)\n",
    "          self.flatten_shape = 4*4*50\n",
    "        else:\n",
    "          self.fc1 = nn.Linear(1250, 500)\n",
    "          self.flatten_shape = 1250\n",
    "\n",
    "        self.fc2 = nn.Linear(500, 10)\n",
    "        \n",
    "      \n",
    "    def forward(self, x, vis=False, axs=None):\n",
    "        X = 0\n",
    "        y = 0\n",
    "\n",
    "        if vis:\n",
    "          axs[X,y].set_xlabel('Entry into network, input distribution visualised below: ')\n",
    "          visualise(x, axs[X,y])\n",
    "\n",
    "          axs[X,y+1].set_xlabel(\"Visualising weights of conv 1 layer: \")\n",
    "          visualise(self.conv1.weight.data, axs[X,y+1])\n",
    "\n",
    "\n",
    "        x = F.relu(self.conv1(x))\n",
    "\n",
    "        if vis:\n",
    "          axs[X,y+2].set_xlabel('Output after conv1 visualised below: ')\n",
    "          visualise(x,axs[X,y+2])\n",
    "\n",
    "          axs[X,y+3].set_xlabel(\"Visualising weights of conv 2 layer: \")\n",
    "          visualise(self.conv2.weight.data, axs[X,y+3])\n",
    "\n",
    "        x = F.max_pool2d(x, 2, 2)\n",
    "        x = F.relu(self.conv2(x))\n",
    "\n",
    "        if vis:\n",
    "          axs[X,y+4].set_xlabel('Output after conv2 visualised below: ')\n",
    "          visualise(x,axs[X,y+4])\n",
    "\n",
    "          axs[X+1,y].set_xlabel(\"Visualising weights of fc 1 layer: \")\n",
    "          visualise(self.fc1.weight.data, axs[X+1,y])\n",
    "\n",
    "        x = F.max_pool2d(x, 2, 2)  \n",
    "        x = x.view(-1, self.flatten_shape)\n",
    "        x = F.relu(self.fc1(x))\n",
    "\n",
    "        if vis:\n",
    "          axs[X+1,y+1].set_xlabel('Output after fc1 visualised below: ')\n",
    "          visualise(x,axs[X+1,y+1])\n",
    "\n",
    "          axs[X+1,y+2].set_xlabel(\"Visualising weights of fc 2 layer: \")\n",
    "          visualise(self.fc2.weight.data, axs[X+1,y+2])\n",
    "\n",
    "        x = self.fc2(x)\n",
    "\n",
    "        if vis:\n",
    "          axs[X+1,y+3].set_xlabel('Output after fc2 visualised below: ')\n",
    "          visualise(x,axs[X+1,y+3])\n",
    "\n",
    "        return F.log_softmax(x, dim=1)\n",
    "    "
   ]
  },
  {
   "cell_type": "markdown",
   "metadata": {
    "id": "1EWDw3bip8Ie"
   },
   "source": [
    "# Training "
   ]
  },
  {
   "cell_type": "code",
   "execution_count": 2,
   "metadata": {
    "colab": {
     "base_uri": "https://localhost:8080/"
    },
    "id": "ujzd_d1kp_sX",
    "outputId": "3360eacf-1426-4ce0-d554-85519e5a7bff"
   },
   "outputs": [
    {
     "name": "stdout",
     "output_type": "stream",
     "text": [
      "Train Epoch: 1 [0/60000 (0%)]\tLoss: 2.292215\n",
      "Train Epoch: 1 [32000/60000 (53%)]\tLoss: 0.256712\n",
      "\n",
      "Test set: Average loss: 0.1188, Accuracy: 9629/10000 (96%)\n",
      "\n",
      "Train Epoch: 2 [0/60000 (0%)]\tLoss: 0.128099\n",
      "Train Epoch: 2 [32000/60000 (53%)]\tLoss: 0.056988\n",
      "\n",
      "Test set: Average loss: 0.0747, Accuracy: 9748/10000 (97%)\n",
      "\n",
      "Train Epoch: 3 [0/60000 (0%)]\tLoss: 0.057497\n",
      "Train Epoch: 3 [32000/60000 (53%)]\tLoss: 0.027831\n",
      "\n",
      "Test set: Average loss: 0.0514, Accuracy: 9843/10000 (98%)\n",
      "\n",
      "Train Epoch: 4 [0/60000 (0%)]\tLoss: 0.041572\n",
      "Train Epoch: 4 [32000/60000 (53%)]\tLoss: 0.020006\n",
      "\n",
      "Test set: Average loss: 0.0460, Accuracy: 9835/10000 (98%)\n",
      "\n",
      "Train Epoch: 5 [0/60000 (0%)]\tLoss: 0.024257\n",
      "Train Epoch: 5 [32000/60000 (53%)]\tLoss: 0.009996\n",
      "\n",
      "Test set: Average loss: 0.0325, Accuracy: 9886/10000 (99%)\n",
      "\n",
      "Train Epoch: 6 [0/60000 (0%)]\tLoss: 0.030375\n",
      "Train Epoch: 6 [32000/60000 (53%)]\tLoss: 0.006032\n",
      "\n",
      "Test set: Average loss: 0.0356, Accuracy: 9892/10000 (99%)\n",
      "\n",
      "Train Epoch: 7 [0/60000 (0%)]\tLoss: 0.018926\n",
      "Train Epoch: 7 [32000/60000 (53%)]\tLoss: 0.012043\n",
      "\n",
      "Test set: Average loss: 0.0410, Accuracy: 9864/10000 (99%)\n",
      "\n",
      "Train Epoch: 8 [0/60000 (0%)]\tLoss: 0.008225\n",
      "Train Epoch: 8 [32000/60000 (53%)]\tLoss: 0.020111\n",
      "\n",
      "Test set: Average loss: 0.0281, Accuracy: 9908/10000 (99%)\n",
      "\n",
      "Train Epoch: 9 [0/60000 (0%)]\tLoss: 0.025397\n",
      "Train Epoch: 9 [32000/60000 (53%)]\tLoss: 0.032861\n",
      "\n",
      "Test set: Average loss: 0.0258, Accuracy: 9919/10000 (99%)\n",
      "\n",
      "Train Epoch: 10 [0/60000 (0%)]\tLoss: 0.009024\n",
      "Train Epoch: 10 [32000/60000 (53%)]\tLoss: 0.002100\n",
      "\n",
      "Test set: Average loss: 0.0271, Accuracy: 9908/10000 (99%)\n",
      "\n"
     ]
    }
   ],
   "source": [
    "\n",
    "def train(args, model, device, train_loader, optimizer, epoch):\n",
    "    model.train()\n",
    "    for batch_idx, (data, target) in enumerate(train_loader):\n",
    "        data, target = data.to(device), target.to(device)\n",
    "        optimizer.zero_grad()\n",
    "        output = model(data)\n",
    "        loss = F.nll_loss(output, target)\n",
    "        loss.backward()\n",
    "        optimizer.step()\n",
    "        \n",
    "   \n",
    "        if batch_idx % args[\"log_interval\"] == 0:\n",
    "            print('Train Epoch: {} [{}/{} ({:.0f}%)]\\tLoss: {:.6f}'.format(\n",
    "                epoch, batch_idx * len(data), len(train_loader.dataset),\n",
    "                100. * batch_idx / len(train_loader), loss.item()))\n",
    "\n",
    "def test(args, model, device, test_loader):\n",
    "    model.eval()\n",
    "    test_loss = 0\n",
    "    correct = 0\n",
    "    with torch.no_grad():\n",
    "        for data, target in test_loader:\n",
    "            data, target = data.to(device), target.to(device)\n",
    "            output = model(data)\n",
    "            test_loss += F.nll_loss(output, target, reduction='sum').item() # sum up batch loss\n",
    "            pred = output.argmax(dim=1, keepdim=True) # get the index of the max log-probability\n",
    "            correct += pred.eq(target.view_as(pred)).sum().item()\n",
    "\n",
    "    test_loss /= len(test_loader.dataset)\n",
    "\n",
    "    print('\\nTest set: Average loss: {:.4f}, Accuracy: {}/{} ({:.0f}%)\\n'.format(\n",
    "        test_loss, correct, len(test_loader.dataset),\n",
    "        100. * correct / len(test_loader.dataset)))\n",
    "\n",
    "def main(mnist=True):\n",
    " \n",
    "    batch_size = 64\n",
    "    test_batch_size = 64\n",
    "    epochs = 10\n",
    "    lr = 0.01\n",
    "    momentum = 0.5\n",
    "    seed = 1\n",
    "    log_interval = 500\n",
    "    save_model = False\n",
    "    no_cuda = False\n",
    "    \n",
    "    use_cuda = not no_cuda and torch.cuda.is_available()\n",
    "\n",
    "    torch.manual_seed(seed)\n",
    "\n",
    "    device = torch.device(\"cuda\" if use_cuda else \"cpu\")\n",
    "\n",
    "    kwargs = {'num_workers': 1, 'pin_memory': True} if use_cuda else {}\n",
    "\n",
    "    if mnist:\n",
    "      train_loader = torch.utils.data.DataLoader(\n",
    "          datasets.MNIST('../data', train=True, download=True,\n",
    "                        transform=transforms.Compose([\n",
    "                            transforms.ToTensor(),\n",
    "                            transforms.Normalize((0.1307,), (0.3081,))\n",
    "                        ])),\n",
    "          batch_size=batch_size, shuffle=True, **kwargs)\n",
    "      \n",
    "      test_loader = torch.utils.data.DataLoader(\n",
    "          datasets.MNIST('../data', train=False, transform=transforms.Compose([\n",
    "                            transforms.ToTensor(),\n",
    "                            transforms.Normalize((0.1307,), (0.3081,))\n",
    "                        ])),\n",
    "          batch_size=test_batch_size, shuffle=True, **kwargs)\n",
    "    else:\n",
    "      transform = transforms.Compose(\n",
    "          [transforms.ToTensor(),\n",
    "          transforms.Normalize((0.5, 0.5, 0.5), (0.5, 0.5, 0.5))])\n",
    "\n",
    "      trainset = datasets.CIFAR10(root='./dataCifar', train=True,\n",
    "                                              download=True, transform=transform)\n",
    "      train_loader = torch.utils.data.DataLoader(trainset, batch_size=batch_size,\n",
    "                                                shuffle=True, num_workers=2)\n",
    "\n",
    "      testset = datasets.CIFAR10(root='./dataCifar', train=False,\n",
    "                                            download=True, transform=transform)\n",
    "      test_loader = torch.utils.data.DataLoader(testset, batch_size=test_batch_size,\n",
    "                                              shuffle=False, num_workers=2)\n",
    "          \n",
    "  \n",
    "    model = Net(mnist=mnist).to(device)\n",
    "    optimizer = optim.SGD(model.parameters(), lr=lr, momentum=momentum)\n",
    "    args = {}\n",
    "    args[\"log_interval\"] = log_interval\n",
    "    for epoch in range(1, epochs + 1):\n",
    "        train(args, model, device, train_loader, optimizer, epoch)\n",
    "        test(args, model, device, test_loader)\n",
    "\n",
    "    if (save_model):\n",
    "        torch.save(model.state_dict(),\"mnist_cnn.pt\")\n",
    "    \n",
    "    return model\n",
    "\n",
    "model = main()"
   ]
  },
  {
   "cell_type": "markdown",
   "metadata": {
    "id": "vDkkrT2prCU9"
   },
   "source": [
    "# Quantisation of Network"
   ]
  },
  {
   "cell_type": "markdown",
   "metadata": {
    "id": "vFM8UV9CreIX"
   },
   "source": [
    "## Quantisation Functions"
   ]
  },
  {
   "cell_type": "code",
   "execution_count": 3,
   "metadata": {
    "id": "iCsoFvwLrgdu"
   },
   "outputs": [],
   "source": [
    "from collections import namedtuple\n",
    "import torch\n",
    "import torch.nn as nn\n",
    "\n",
    "QTensor = namedtuple('QTensor', ['tensor', 'scale', 'zero_point'])\n",
    "\n",
    "def calcScaleZeroPoint(min_val, max_val,num_bits=8):\n",
    "  # Calc Scale and zero point of next \n",
    "  qmin = 0.\n",
    "  qmax = 2.**num_bits - 1.\n",
    "\n",
    "  scale = (max_val - min_val) / (qmax - qmin)\n",
    "\n",
    "  initial_zero_point = qmin - min_val / scale\n",
    "  \n",
    "  zero_point = 0\n",
    "  if initial_zero_point < qmin:\n",
    "      zero_point = qmin\n",
    "  elif initial_zero_point > qmax:\n",
    "      zero_point = qmax\n",
    "  else:\n",
    "      zero_point = initial_zero_point\n",
    "\n",
    "  zero_point = int(zero_point)\n",
    "\n",
    "  return scale, zero_point\n",
    "\n",
    "def calcScaleZeroPointSym(min_val, max_val,num_bits=8):\n",
    "  \n",
    "  # Calc Scale \n",
    "  max_val = max(abs(min_val), abs(max_val))\n",
    "  qmin = 0.\n",
    "  qmax = 2.**(num_bits-1) - 1.\n",
    "\n",
    "  scale = max_val / qmax\n",
    "\n",
    "  return scale, 0\n",
    "\n",
    "def quantize_tensor(x, num_bits=8, min_val=None, max_val=None):\n",
    "    \n",
    "    if not min_val and not max_val: \n",
    "      min_val, max_val = x.min(), x.max()\n",
    "\n",
    "    qmin = 0.\n",
    "    qmax = 2.**num_bits - 1.\n",
    "\n",
    "    scale, zero_point = calcScaleZeroPoint(min_val, max_val, num_bits)\n",
    "    q_x = zero_point + x / scale\n",
    "    q_x.clamp_(qmin, qmax).round_()\n",
    "    q_x = q_x.round().byte()\n",
    "    \n",
    "    return QTensor(tensor=q_x, scale=scale, zero_point=zero_point)\n",
    "\n",
    "def dequantize_tensor(q_x):\n",
    "    return q_x.scale * (q_x.tensor.float() - q_x.zero_point)\n",
    "\n",
    "def quantize_tensor_sym(x, num_bits=8, min_val=None, max_val=None):\n",
    "    \n",
    "    if not min_val and not max_val: \n",
    "      min_val, max_val = x.min(), x.max()\n",
    "\n",
    "    max_val = max(abs(min_val), abs(max_val))\n",
    "    qmin = 0.\n",
    "    qmax = 2.**(num_bits-1) - 1.\n",
    "\n",
    "    scale = max_val / qmax   \n",
    "\n",
    "    q_x = x/scale\n",
    "\n",
    "    q_x.clamp_(-qmax, qmax).round_()\n",
    "    q_x = q_x.round()\n",
    "    return QTensor(tensor=q_x, scale=scale, zero_point=0)\n",
    "\n",
    "def dequantize_tensor_sym(q_x):\n",
    "    return q_x.scale * (q_x.tensor.float())"
   ]
  },
  {
   "cell_type": "markdown",
   "metadata": {
    "id": "xXkTAJ9ws1Y6"
   },
   "source": [
    "## Rework Forward pass of Linear and Conv Layers to support Quantisation"
   ]
  },
  {
   "cell_type": "code",
   "execution_count": 4,
   "metadata": {
    "id": "M5xNLrchrI6u"
   },
   "outputs": [],
   "source": [
    "def quantizeLayer(x, layer, stat, scale_x, zp_x, vis=False, axs=None, X=None, y=None, sym=False, num_bits=8):\n",
    "  # for both conv and linear layers\n",
    "\n",
    "  # cache old values\n",
    "  W = layer.weight.data\n",
    "  B = layer.bias.data\n",
    "\n",
    "  # WEIGHTS SIMULATED QUANTISED\n",
    "\n",
    "  # quantise weights, activations are already quantised\n",
    "  if sym:\n",
    "    w = quantize_tensor_sym(layer.weight.data,num_bits=num_bits) \n",
    "    b = quantize_tensor_sym(layer.bias.data,num_bits=num_bits)\n",
    "  else:\n",
    "    w = quantize_tensor(layer.weight.data, num_bits=num_bits) \n",
    "    b = quantize_tensor(layer.bias.data, num_bits=num_bits)\n",
    "\n",
    "  layer.weight.data = w.tensor.float()\n",
    "  layer.bias.data = b.tensor.float()\n",
    "\n",
    "  ## END WEIGHTS QUANTISED SIMULATION\n",
    "\n",
    "\n",
    "  if vis:\n",
    "    axs[X,y].set_xlabel(\"Visualising weights of layer: \")\n",
    "    visualise(layer.weight.data, axs[X,y])\n",
    "\n",
    "  # QUANTISED OP, USES SCALE AND ZERO POINT TO DO LAYER FORWARD PASS. (How does backprop change here ?)\n",
    "  # This is Quantisation Arithmetic\n",
    "  scale_w = w.scale\n",
    "  zp_w = w.zero_point\n",
    "  scale_b = b.scale\n",
    "  zp_b = b.zero_point\n",
    "  \n",
    "  if sym:\n",
    "    scale_next, zero_point_next = calcScaleZeroPointSym(min_val=stat['min'], max_val=stat['max'])\n",
    "  else:\n",
    "    scale_next, zero_point_next = calcScaleZeroPoint(min_val=stat['min'], max_val=stat['max'])\n",
    "\n",
    "  # Preparing input by saturating range to num_bits range.\n",
    "  if sym:\n",
    "    X = x.float()\n",
    "    layer.weight.data = ((scale_x * scale_w) / scale_next)*(layer.weight.data)\n",
    "    layer.bias.data = (scale_b/scale_next)*(layer.bias.data)\n",
    "  else:\n",
    "    X = x.float() - zp_x\n",
    "    layer.weight.data = ((scale_x * scale_w) / scale_next)*(layer.weight.data - zp_w)\n",
    "    layer.bias.data = (scale_b/scale_next)*(layer.bias.data + zp_b)\n",
    "\n",
    "  # All int computation\n",
    "  if sym:  \n",
    "    x = (layer(X)) \n",
    "  else:\n",
    "    x = (layer(X)) + zero_point_next \n",
    "  \n",
    "  # cast to int\n",
    "  x.round_()\n",
    "\n",
    "  # Perform relu too\n",
    "  x = F.leaky_relu(x)\n",
    "\n",
    "  # Reset weights for next forward pass\n",
    "  layer.weight.data = W\n",
    "  layer.bias.data = B\n",
    "  \n",
    "  return x, scale_next, zero_point_next\n"
   ]
  },
  {
   "cell_type": "markdown",
   "metadata": {
    "id": "OgkWg605tE1y"
   },
   "source": [
    "## Get Stats for Quantising Activations of Network.\n",
    "\n",
    "This is done by running the network with around 1000 examples and getting the average min and max activation values before and after each layer."
   ]
  },
  {
   "cell_type": "code",
   "execution_count": 5,
   "metadata": {
    "id": "GecOkNLhtVh9"
   },
   "outputs": [],
   "source": [
    "# Get Min and max of x tensor, and stores it\n",
    "def updateStats(x, stats, key):\n",
    "  max_val, _ = torch.max(x, dim=1)\n",
    "  min_val, _ = torch.min(x, dim=1)\n",
    "\n",
    "  # add ema calculation\n",
    "\n",
    "  if key not in stats:\n",
    "    stats[key] = {\"max\": max_val.sum(), \"min\": min_val.sum(), \"total\": 1}\n",
    "  else:\n",
    "    stats[key]['max'] += max_val.sum().item()\n",
    "    stats[key]['min'] += min_val.sum().item()\n",
    "    stats[key]['total'] += 1\n",
    "  \n",
    "  weighting = 2.0 / (stats[key]['total']) + 1\n",
    "\n",
    "  if 'ema_min' in stats[key]:\n",
    "    stats[key]['ema_min'] = weighting*(min_val.mean().item()) + (1- weighting) * stats[key]['ema_min']\n",
    "  else:\n",
    "    stats[key]['ema_min'] = weighting*(min_val.mean().item())\n",
    "\n",
    "  if 'ema_max' in stats[key]:\n",
    "    stats[key]['ema_max'] = weighting*(max_val.mean().item()) + (1- weighting) * stats[key]['ema_max']\n",
    "  else: \n",
    "    stats[key]['ema_max'] = weighting*(max_val.mean().item())\n",
    "\n",
    "  stats[key]['min_val'] = stats[key]['min']/ stats[key]['total']\n",
    "  stats[key]['max_val'] = stats[key]['max']/ stats[key]['total']\n",
    "  \n",
    "  return stats\n",
    "\n",
    "# Reworked Forward Pass to access activation Stats through updateStats function\n",
    "def gatherActivationStats(model, x, stats):\n",
    "\n",
    "  stats = updateStats(x.clone().view(x.shape[0], -1), stats, 'conv1')\n",
    "  \n",
    "  x = F.relu(model.conv1(x))\n",
    "\n",
    "  x = F.max_pool2d(x, 2, 2)\n",
    "  \n",
    "  stats = updateStats(x.clone().view(x.shape[0], -1), stats, 'conv2')\n",
    "  \n",
    "  x = F.relu(model.conv2(x))\n",
    "\n",
    "  x = F.max_pool2d(x, 2, 2)\n",
    "\n",
    "  x = x.view(-1, 4*4*50)\n",
    "  \n",
    "  stats = updateStats(x, stats, 'fc1')\n",
    "\n",
    "  x = F.relu(model.fc1(x))\n",
    "  \n",
    "  stats = updateStats(x, stats, 'fc2')\n",
    "\n",
    "  x = model.fc2(x)\n",
    "\n",
    "  return stats\n",
    "\n",
    "# Entry function to get stats of all functions.\n",
    "def gatherStats(model, test_loader):\n",
    "    device = 'cuda'\n",
    "    \n",
    "    model.eval()\n",
    "    test_loss = 0\n",
    "    correct = 0\n",
    "    stats = {}\n",
    "    with torch.no_grad():\n",
    "        for data, target in test_loader:\n",
    "            data, target = data.to(device), target.to(device)\n",
    "            stats = gatherActivationStats(model, data, stats)\n",
    "    \n",
    "    final_stats = {}\n",
    "    for key, value in stats.items():\n",
    "      final_stats[key] = { \"max\" : value[\"max\"] / value[\"total\"], \"min\" : value[\"min\"] / value[\"total\"], \"ema_min\": value[\"ema_min\"], \"ema_max\": value[\"ema_max\"] }\n",
    "    return final_stats"
   ]
  },
  {
   "cell_type": "markdown",
   "metadata": {
    "id": "OBt0WDzyujnk"
   },
   "source": [
    "## Forward Pass for Quantised Inference"
   ]
  },
  {
   "cell_type": "code",
   "execution_count": 6,
   "metadata": {
    "id": "f6duGNF_uoZB"
   },
   "outputs": [],
   "source": [
    "def quantForward(model, x, stats, vis=False, axs=None, sym=False, num_bits=8):\n",
    "  X = 0\n",
    "  y = 0\n",
    "  # Quantise before inputting into incoming layers\n",
    "  if sym:\n",
    "    x = quantize_tensor_sym(x, min_val=stats['conv1']['min'], max_val=stats['conv1']['max'], num_bits=num_bits)\n",
    "  else:\n",
    "    x = quantize_tensor(x, min_val=stats['conv1']['min'], max_val=stats['conv1']['max'], num_bits=num_bits)\n",
    "\n",
    "  if vis:\n",
    "    axs[X,y].set_xlabel('Entry into network, input distribution visualised below: ')\n",
    "    visualise(x.tensor, axs[X,y])\n",
    "  \n",
    "  x, scale_next, zero_point_next = quantizeLayer(x.tensor, model.conv1, stats['conv2'], x.scale, x.zero_point, vis, axs, X=X, y=y+1, sym=sym, num_bits=num_bits)\n",
    "\n",
    "  x = F.max_pool2d(x, 2, 2)\n",
    "  \n",
    "  if vis:\n",
    "    axs[X,y+2].set_xlabel('Output after conv1 visualised below: ')\n",
    "    visualise(x,axs[X,y+2])\n",
    "\n",
    "  x, scale_next, zero_point_next = quantizeLayer(x, model.conv2, stats['fc1'], scale_next, zero_point_next, vis, axs, X=X, y=y+3, sym=sym, num_bits=num_bits)\n",
    "\n",
    "  x = F.max_pool2d(x, 2, 2)\n",
    "\n",
    "  if vis:\n",
    "    axs[X,y+4].set_xlabel('Output after conv2 visualised below: ')\n",
    "    visualise(x,axs[X,y+4])\n",
    "\n",
    "  x = x.view(-1, 4*4*50)\n",
    "\n",
    "  x, scale_next, zero_point_next = quantizeLayer(x, model.fc1, stats['fc2'], scale_next, zero_point_next, vis, axs, X=X+1, y=0, sym=sym, num_bits=num_bits)\n",
    "\n",
    "  if vis:\n",
    "    axs[X+1,1].set_xlabel('Output after fc1 visualised below: ')\n",
    "    visualise(x,axs[X+1,1])\n",
    "  \n",
    "  # Back to dequant for final layer\n",
    "  if sym:\n",
    "    x = dequantize_tensor_sym(QTensor(tensor=x, scale=scale_next, zero_point=zero_point_next))\n",
    "  else:\n",
    "    x = dequantize_tensor(QTensor(tensor=x, scale=scale_next, zero_point=zero_point_next))\n",
    "\n",
    "  if vis:\n",
    "    axs[X+1,2].set_xlabel('Output after fc1 but dequantised visualised below: ')\n",
    "    visualise(x,axs[X+1,2])\n",
    "\n",
    "  x = model.fc2(x)\n",
    "\n",
    "  if vis:\n",
    "    axs[X+1,3].set_xlabel('Unquantised Weights of fc2 layer')\n",
    "    visualise(model.fc2.weight.data,axs[X+1,3])\n",
    "\n",
    "    axs[X+1,2].set_xlabel('Output after fc2 but dequantised visualised below: ')\n",
    "    visualise(x,axs[X+1,4])\n",
    "\n",
    "  return F.log_softmax(x, dim=1)"
   ]
  },
  {
   "cell_type": "markdown",
   "metadata": {
    "id": "xC96eesMqYo-"
   },
   "source": [
    "# Testing Function for Quantisation"
   ]
  },
  {
   "cell_type": "code",
   "execution_count": 7,
   "metadata": {
    "id": "X6jKRKSBt0he"
   },
   "outputs": [],
   "source": [
    "def testQuant(model, test_loader, quant=False, stats=None, sym=False, num_bits=8):\n",
    "    device = 'cuda'\n",
    "    \n",
    "    model.eval()\n",
    "    test_loss = 0\n",
    "    correct = 0\n",
    "    with torch.no_grad():\n",
    "        for data, target in test_loader:\n",
    "            data, target = data.to(device), target.to(device)\n",
    "            if quant:\n",
    "              output = quantForward(model, data, stats, sym=sym, num_bits=num_bits)\n",
    "            else:\n",
    "              output = model(data)\n",
    "            test_loss += F.nll_loss(output, target, reduction='sum').item() # sum up batch loss\n",
    "            pred = output.argmax(dim=1, keepdim=True) # get the index of the max log-probability\n",
    "            correct += pred.eq(target.view_as(pred)).sum().item()\n",
    "\n",
    "    test_loss /= len(test_loader.dataset)\n",
    "\n",
    "    print('\\nTest set: Average loss: {:.4f}, Accuracy: {}/{} ({:.0f}%)\\n'.format(\n",
    "        test_loss, correct, len(test_loader.dataset),\n",
    "        100. * correct / len(test_loader.dataset)))"
   ]
  },
  {
   "cell_type": "markdown",
   "metadata": {
    "id": "bs97rNEXt_my"
   },
   "source": [
    "# Get Accuracy of Non Quantised Model"
   ]
  },
  {
   "cell_type": "code",
   "execution_count": 8,
   "metadata": {
    "id": "0YCtbfk9qbGI"
   },
   "outputs": [],
   "source": [
    "import copy\n",
    "q_model = copy.deepcopy(model)"
   ]
  },
  {
   "cell_type": "code",
   "execution_count": 9,
   "metadata": {
    "id": "5j42Q8PKt3lj"
   },
   "outputs": [],
   "source": [
    "kwargs = {'num_workers': 1, 'pin_memory': True}\n",
    "test_loader = torch.utils.data.DataLoader(\n",
    "    datasets.MNIST('../data', train=False, transform=transforms.Compose([\n",
    "                       transforms.ToTensor(),\n",
    "                       transforms.Normalize((0.1307,), (0.3081,))\n",
    "                   ])),\n",
    "    batch_size=64, shuffle=True, **kwargs)"
   ]
  },
  {
   "cell_type": "code",
   "execution_count": 10,
   "metadata": {
    "colab": {
     "base_uri": "https://localhost:8080/"
    },
    "id": "QeYlzGG0t4Yp",
    "outputId": "66b06f5b-25de-4c9e-a25b-232a62323878"
   },
   "outputs": [
    {
     "name": "stdout",
     "output_type": "stream",
     "text": [
      "\n",
      "Test set: Average loss: 0.0271, Accuracy: 9908/10000 (99%)\n",
      "\n"
     ]
    }
   ],
   "source": [
    "testQuant(q_model, test_loader, quant=False)"
   ]
  },
  {
   "cell_type": "markdown",
   "metadata": {
    "id": "1JaeISHeuHCb"
   },
   "source": [
    "# Gather Stats of Activations"
   ]
  },
  {
   "cell_type": "code",
   "execution_count": 11,
   "metadata": {
    "colab": {
     "base_uri": "https://localhost:8080/"
    },
    "id": "xhiL7OwwuLS6",
    "outputId": "42044afd-f723-4d51-8574-a96da78df37c"
   },
   "outputs": [
    {
     "name": "stdout",
     "output_type": "stream",
     "text": [
      "{'conv1': {'max': tensor(179.6298, device='cuda:0'), 'min': tensor(-27.0200, device='cuda:0'), 'ema_min': -0.4242129623889923, 'ema_max': 2.8198880794976353}, 'conv2': {'max': tensor(571.0856, device='cuda:0'), 'min': tensor(0., device='cuda:0'), 'ema_min': 0.0, 'ema_max': 8.90962209366919}, 'fc1': {'max': tensor(1002.5504, device='cuda:0'), 'min': tensor(0., device='cuda:0'), 'ema_min': 0.0, 'ema_max': 15.954165760031668}, 'fc2': {'max': tensor(535.5707, device='cuda:0'), 'min': tensor(0., device='cuda:0'), 'ema_min': 0.0, 'ema_max': 8.464912230463078}}\n"
     ]
    }
   ],
   "source": [
    "stats = gatherStats(q_model, test_loader)\n",
    "print(stats)"
   ]
  },
  {
   "cell_type": "markdown",
   "metadata": {
    "id": "eMeng9S4uSOX"
   },
   "source": [
    "# Test Quantised Inference Of Model"
   ]
  },
  {
   "cell_type": "code",
   "execution_count": 12,
   "metadata": {
    "colab": {
     "base_uri": "https://localhost:8080/"
    },
    "id": "INQggUUQuXyq",
    "outputId": "c62dc308-5334-49b8-ab18-69db70b933c0"
   },
   "outputs": [
    {
     "name": "stdout",
     "output_type": "stream",
     "text": [
      "\n",
      "Test set: Average loss: 0.0523, Accuracy: 9842/10000 (98%)\n",
      "\n"
     ]
    }
   ],
   "source": [
    "testQuant(q_model, test_loader, quant=True, stats=stats, sym=False, num_bits=6)"
   ]
  },
  {
   "cell_type": "code",
   "execution_count": 13,
   "metadata": {
    "colab": {
     "base_uri": "https://localhost:8080/"
    },
    "id": "1_-hb-WqIgXH",
    "outputId": "e3f9cb6d-0589-400a-dab8-24374dc933bc"
   },
   "outputs": [
    {
     "name": "stdout",
     "output_type": "stream",
     "text": [
      "\n",
      "Test set: Average loss: 0.0835, Accuracy: 9740/10000 (97%)\n",
      "\n"
     ]
    }
   ],
   "source": [
    "testQuant(q_model, test_loader, quant=True, stats=stats, sym=True, num_bits=8)"
   ]
  },
  {
   "cell_type": "code",
   "execution_count": 14,
   "metadata": {
    "colab": {
     "base_uri": "https://localhost:8080/"
    },
    "id": "QTUB1sYikm4h",
    "outputId": "9d87dfa3-2c0b-4694-f9a7-18611be781b4"
   },
   "outputs": [
    {
     "name": "stdout",
     "output_type": "stream",
     "text": [
      "\n",
      "Test set: Average loss: 2.3026, Accuracy: 1028/10000 (10%)\n",
      "\n"
     ]
    }
   ],
   "source": [
    "testQuant(q_model, test_loader, quant=True, stats=stats, sym=True, num_bits=4)"
   ]
  },
  {
   "cell_type": "markdown",
   "metadata": {
    "id": "rApSucQLlb_6"
   },
   "source": [
    "See, when we go down to 4 bits, the accuracy craters !"
   ]
  },
  {
   "cell_type": "markdown",
   "metadata": {
    "id": "miUvOJ5YuEHC"
   },
   "source": [
    "# Visualise Weights and Activations"
   ]
  },
  {
   "cell_type": "code",
   "execution_count": 15,
   "metadata": {
    "id": "QxxUxYA2BU3x"
   },
   "outputs": [],
   "source": [
    "def visualise(x, axs):\n",
    "  x = x.view(-1).cpu().numpy()\n",
    "  axs.hist(x) "
   ]
  },
  {
   "cell_type": "markdown",
   "metadata": {
    "id": "HgBC03xtTCe4"
   },
   "source": [
    "## Visualise Quantised Model"
   ]
  },
  {
   "cell_type": "code",
   "execution_count": 16,
   "metadata": {
    "colab": {
     "base_uri": "https://localhost:8080/",
     "height": 507
    },
    "id": "q-_lnplBDwFq",
    "outputId": "76b47df1-de66-431d-ec4f-528f7f7947bb"
   },
   "outputs": [
    {
     "data": {
      "image/png": "[encoded data removed]",
      "text/plain": [
       "<Figure size 1440x720 with 10 Axes>"
      ]
     },
     "metadata": {
      "needs_background": "light",
      "tags": []
     },
     "output_type": "display_data"
    }
   ],
   "source": [
    "import matplotlib.pyplot as plt\n",
    "# run through one example and plot weights and activations quantised in real time\n",
    "device = 'cuda'\n",
    "fig, axs = plt.subplots(2, 5, figsize=(20, 10))\n",
    "with torch.no_grad():\n",
    "    for data, target in test_loader:\n",
    "        data, target = data.to(device), target.to(device)\n",
    "        output = quantForward(q_model, data, stats, vis=True, axs=axs, sym=False)\n",
    "        break\n",
    "plt.show()"
   ]
  },
  {
   "cell_type": "code",
   "execution_count": 17,
   "metadata": {
    "colab": {
     "base_uri": "https://localhost:8080/",
     "height": 505
    },
    "id": "BAapb578IoY4",
    "outputId": "a873187a-a7ed-43e5-cd2b-f3168444de18"
   },
   "outputs": [
    {
     "data": {
      "image/png": "[encoded data removed]",
      "text/plain": [
       "<Figure size 1440x720 with 10 Axes>"
      ]
     },
     "metadata": {
      "needs_background": "light",
      "tags": []
     },
     "output_type": "display_data"
    }
   ],
   "source": [
    "import matplotlib.pyplot as plt\n",
    "# run through one example and plot weights and activations quantised in real time\n",
    "device = 'cuda'\n",
    "fig, axs = plt.subplots(2, 5, figsize=(20, 10))\n",
    "with torch.no_grad():\n",
    "    for data, target in test_loader:\n",
    "        data, target = data.to(device), target.to(device)\n",
    "        output = quantForward(q_model, data, stats, vis=True, axs=axs, sym=True)\n",
    "        break\n",
    "plt.show()"
   ]
  },
  {
   "cell_type": "markdown",
   "metadata": {
    "id": "mszPTrYOluym"
   },
   "source": [
    "## Non Quantised Network weights and activations"
   ]
  },
  {
   "cell_type": "code",
   "execution_count": 18,
   "metadata": {
    "colab": {
     "base_uri": "https://localhost:8080/",
     "height": 501
    },
    "id": "iylGn6_aT5r9",
    "outputId": "f7d3d97b-3820-4f9d-b80e-c05f2824f95d"
   },
   "outputs": [
    {
     "data": {
      "image/png": "[encoded data removed]",
      "text/plain": [
       "<Figure size 1440x720 with 10 Axes>"
      ]
     },
     "metadata": {
      "needs_background": "light",
      "tags": []
     },
     "output_type": "display_data"
    }
   ],
   "source": [
    "# run through one example and plot weights and activations quantised in real time\n",
    "device = 'cuda'\n",
    "fig, axs = plt.subplots(2, 5, figsize=(20, 10))\n",
    "with torch.no_grad():\n",
    "    for data, target in test_loader:\n",
    "        data, target = data.to(device), target.to(device)\n",
    "        output = model(data, vis=True, axs=axs)\n",
    "        break\n",
    "plt.show()"
   ]
  },
  {
   "cell_type": "code",
   "execution_count": 19,
   "metadata": {
    "colab": {
     "base_uri": "https://localhost:8080/",
     "height": 1000
    },
    "id": "SDvmMnLq85lp",
    "outputId": "3a8f8836-9b16-4617-9679-85ca7c527930"
   },
   "outputs": [
    {
     "data": {
      "image/png": "[encoded data removed]",
      "text/plain": [
       "<Figure size 360x360 with 1 Axes>"
      ]
     },
     "metadata": {
      "needs_background": "light",
      "tags": []
     },
     "output_type": "display_data"
    },
    {
     "data": {
      "image/png": "[encoded data removed]",
      "text/plain": [
       "<Figure size 360x360 with 1 Axes>"
      ]
     },
     "metadata": {
      "needs_background": "light",
      "tags": []
     },
     "output_type": "display_data"
    },
    {
     "data": {
      "image/png": "[encoded data removed]",
      "text/plain": [
       "<Figure size 360x360 with 1 Axes>"
      ]
     },
     "metadata": {
      "needs_background": "light",
      "tags": []
     },
     "output_type": "display_data"
    },
    {
     "data": {
      "image/png": "[encoded data removed]",
      "text/plain": [
       "<Figure size 360x360 with 1 Axes>"
      ]
     },
     "metadata": {
      "needs_background": "light",
      "tags": []
     },
     "output_type": "display_data"
    }
   ],
   "source": [
    "quantisedConv1 = quantize_tensor(model.conv1.weight.data)\n",
    "fig, axs = plt.subplots(1, 1, figsize=(5, 5))\n",
    "axs.hist(quantisedConv1.tensor.cpu().view(-1).numpy())\n",
    "\n",
    "plt.show()\n",
    "\n",
    "quantisedConv1 = model.conv1.weight.data\n",
    "fig, axs = plt.subplots(1, 1, figsize=(5, 5))\n",
    "axs.hist(quantisedConv1.cpu().view(-1).numpy())\n",
    "\n",
    "plt.show()\n",
    "\n",
    "quantisedConv1 = quantize_tensor_sym(model.conv1.weight.data)\n",
    "fig, axs = plt.subplots(1, 1, figsize=(5, 5))\n",
    "axs.hist(quantisedConv1.tensor.cpu().view(-1).numpy())\n",
    "\n",
    "plt.show()\n",
    "\n",
    "unquantisedConv1 = dequantize_tensor_sym(quantisedConv1)\n",
    "fig, axs = plt.subplots(1, 1, figsize=(5, 5))\n",
    "axs.hist(unquantisedConv1.cpu().view(-1).numpy())\n",
    "\n",
    "plt.show()"
   ]
  },
  {
   "cell_type": "markdown",
   "metadata": {
    "id": "voLb1LPkvkz_"
   },
   "source": [
    "## TA DA !!\n",
    "\n",
    "We have quantised our net to mostly 8 bit arithmetic with almost zero accuracy loss ! Pretty good day's work, I'll say :D"
   ]
  },
  {
   "cell_type": "markdown",
   "metadata": {
    "id": "ZcxOV-GEy6rD"
   },
   "source": [
    "# Quantisation Aware Training"
   ]
  },
  {
   "cell_type": "code",
   "execution_count": 20,
   "metadata": {
    "id": "SDKoL7ncKeb5"
   },
   "outputs": [],
   "source": [
    "import torch\n",
    "\n",
    "class FakeQuantOp(torch.autograd.Function):\n",
    "    @staticmethod\n",
    "    def forward(ctx, x, num_bits=8, min_val=None, max_val=None):\n",
    "        x = quantize_tensor(x,num_bits=num_bits, min_val=min_val, max_val=max_val)\n",
    "        x = dequantize_tensor(x)\n",
    "        return x\n",
    "\n",
    "    @staticmethod\n",
    "    def backward(ctx, grad_output):\n",
    "        # straight through estimator\n",
    "        return grad_output, None, None, None"
   ]
  },
  {
   "cell_type": "code",
   "execution_count": 21,
   "metadata": {
    "colab": {
     "base_uri": "https://localhost:8080/"
    },
    "id": "vSLtlCSOZ7Ve",
    "outputId": "5bb0269f-b539-4e4d-b18b-5cf4384ec2fc"
   },
   "outputs": [
    {
     "name": "stdout",
     "output_type": "stream",
     "text": [
      "tensor([1., 2., 3., 3.])\n"
     ]
    }
   ],
   "source": [
    "x = torch.tensor([1,2,3,4]).float()\n",
    "print(FakeQuantOp.apply(x))"
   ]
  },
  {
   "cell_type": "markdown",
   "metadata": {
    "id": "VTHK-wAWV57B"
   },
   "source": [
    "## Quantization Aware Training Forward Pass"
   ]
  },
  {
   "cell_type": "code",
   "execution_count": 22,
   "metadata": {
    "id": "lShb-FGKRp1h"
   },
   "outputs": [],
   "source": [
    "def quantAwareTrainingForward(model, x, stats, vis=False, axs=None, sym=False, num_bits=8, act_quant=False):\n",
    "  \n",
    "  conv1weight = model.conv1.weight.data\n",
    "  model.conv1.weight.data = FakeQuantOp.apply(model.conv1.weight.data, num_bits)\n",
    "  x = F.relu(model.conv1(x))\n",
    "\n",
    "  with torch.no_grad():\n",
    "    stats = updateStats(x.clone().view(x.shape[0], -1), stats, 'conv1')\n",
    "\n",
    "  if act_quant:\n",
    "    x = FakeQuantOp.apply(x, num_bits, stats['conv1']['ema_min'], stats['conv1']['ema_max'])\n",
    "\n",
    "  x = F.max_pool2d(x, 2, 2)\n",
    "\n",
    "  conv2weight = model.conv2.weight.data\n",
    "  model.conv2.weight.data = FakeQuantOp.apply(model.conv2.weight.data, num_bits)\n",
    "  x = F.relu(model.conv2(x))\n",
    "\n",
    "  with torch.no_grad():\n",
    "    stats = updateStats(x.clone().view(x.shape[0], -1), stats, 'conv2')\n",
    "    \n",
    "  if act_quant:\n",
    "    x = FakeQuantOp.apply(x, num_bits, stats['conv2']['ema_min'], stats['conv2']['ema_max'])\n",
    "\n",
    "\n",
    "  x = F.max_pool2d(x, 2, 2)\n",
    "\n",
    "  x = x.view(-1, 4*4*50)\n",
    "\n",
    "  fc1weight = model.fc1.weight.data\n",
    "  model.fc1.weight.data = FakeQuantOp.apply(model.fc1.weight.data, num_bits)\n",
    "  x = F.relu(model.fc1(x))\n",
    "\n",
    "  with torch.no_grad():\n",
    "    stats = updateStats(x.clone().view(x.shape[0], -1), stats, 'fc1')\n",
    "\n",
    "  if act_quant:\n",
    "    x = FakeQuantOp.apply(x, num_bits, stats['fc1']['ema_min'], stats['fc1']['ema_max'])\n",
    "\n",
    "  x = model.fc2(x)\n",
    "  \n",
    "  with torch.no_grad():\n",
    "    stats = updateStats(x.clone().view(x.shape[0], -1), stats, 'fc2')\n",
    "\n",
    "  return F.log_softmax(x, dim=1), conv1weight, conv2weight, fc1weight, stats"
   ]
  },
  {
   "cell_type": "markdown",
   "metadata": {
    "id": "GCyUw4izk41q"
   },
   "source": [
    "# Train using Quantization Aware Training"
   ]
  },
  {
   "cell_type": "code",
   "execution_count": 23,
   "metadata": {
    "colab": {
     "base_uri": "https://localhost:8080/"
    },
    "id": "LuKYWJfSR65B",
    "outputId": "3764b702-7178-4882-8f6e-d594084573de"
   },
   "outputs": [
    {
     "name": "stdout",
     "output_type": "stream",
     "text": [
      "Train Epoch: 1 [0/60000 (0%)]\tLoss: 2.292474\n",
      "Train Epoch: 1 [32000/60000 (53%)]\tLoss: 0.262348\n",
      "\n",
      "Test set: Average loss: 0.1181, Accuracy: 9635/10000 (96%)\n",
      "\n",
      "Train Epoch: 2 [0/60000 (0%)]\tLoss: 0.120841\n",
      "Train Epoch: 2 [32000/60000 (53%)]\tLoss: 0.056233\n",
      "\n",
      "Test set: Average loss: 0.0769, Accuracy: 9745/10000 (97%)\n",
      "\n",
      "Train Epoch: 3 [0/60000 (0%)]\tLoss: 0.059855\n",
      "Train Epoch: 3 [32000/60000 (53%)]\tLoss: 0.024146\n",
      "\n",
      "Test set: Average loss: 0.0511, Accuracy: 9849/10000 (98%)\n",
      "\n",
      "Train Epoch: 4 [0/60000 (0%)]\tLoss: 0.048988\n",
      "Train Epoch: 4 [32000/60000 (53%)]\tLoss: 0.018760\n",
      "\n",
      "Test set: Average loss: 0.0459, Accuracy: 9836/10000 (98%)\n",
      "\n",
      "Train Epoch: 5 [0/60000 (0%)]\tLoss: 0.022250\n",
      "Train Epoch: 5 [32000/60000 (53%)]\tLoss: 0.014593\n",
      "\n",
      "Test set: Average loss: 0.0328, Accuracy: 9891/10000 (99%)\n",
      "\n",
      "Train Epoch: 6 [0/60000 (0%)]\tLoss: 0.032476\n",
      "Train Epoch: 6 [32000/60000 (53%)]\tLoss: 0.007644\n",
      "\n",
      "Test set: Average loss: 0.0343, Accuracy: 9885/10000 (99%)\n",
      "\n",
      "Train Epoch: 7 [0/60000 (0%)]\tLoss: 0.037950\n",
      "Train Epoch: 7 [32000/60000 (53%)]\tLoss: 0.011600\n",
      "\n",
      "Test set: Average loss: 0.0365, Accuracy: 9874/10000 (99%)\n",
      "\n",
      "Train Epoch: 8 [0/60000 (0%)]\tLoss: 0.005127\n",
      "Train Epoch: 8 [32000/60000 (53%)]\tLoss: 0.018392\n",
      "\n",
      "Test set: Average loss: 0.0304, Accuracy: 9904/10000 (99%)\n",
      "\n",
      "Train Epoch: 9 [0/60000 (0%)]\tLoss: 0.023978\n",
      "Train Epoch: 9 [32000/60000 (53%)]\tLoss: 0.032795\n",
      "\n",
      "Test set: Average loss: 0.0277, Accuracy: 9912/10000 (99%)\n",
      "\n",
      "Train Epoch: 10 [0/60000 (0%)]\tLoss: 0.007317\n",
      "Train Epoch: 10 [32000/60000 (53%)]\tLoss: 0.002185\n",
      "\n",
      "Test set: Average loss: 0.0315, Accuracy: 9890/10000 (99%)\n",
      "\n"
     ]
    }
   ],
   "source": [
    "def trainQuantAware(args, model, device, train_loader, optimizer, epoch, stats, act_quant=False, num_bits=4):\n",
    "    model.train()\n",
    "    for batch_idx, (data, target) in enumerate(train_loader):\n",
    "        data, target = data.to(device), target.to(device)\n",
    "        optimizer.zero_grad()\n",
    "        output, conv1weight, conv2weight, fc1weight, stats = quantAwareTrainingForward(model, data, stats, num_bits=num_bits, act_quant=act_quant)\n",
    "\n",
    "        model.conv1.weight.data = conv1weight\n",
    "        model.conv2.weight.data = conv2weight\n",
    "        model.fc1.weight.data = fc1weight\n",
    "\n",
    "        loss = F.nll_loss(output, target)\n",
    "        loss.backward()\n",
    "        optimizer.step()\n",
    "\n",
    "        if batch_idx % args[\"log_interval\"] == 0:\n",
    "            print('Train Epoch: {} [{}/{} ({:.0f}%)]\\tLoss: {:.6f}'.format(\n",
    "                epoch, batch_idx * len(data), len(train_loader.dataset),\n",
    "                100. * batch_idx / len(train_loader), loss.item()))\n",
    "    return stats\n",
    "\n",
    "def testQuantAware(args, model, device, test_loader, stats, act_quant, num_bits=4):\n",
    "    model.eval()\n",
    "    test_loss = 0\n",
    "    correct = 0\n",
    "    with torch.no_grad():\n",
    "        for data, target in test_loader:\n",
    "            data, target = data.to(device), target.to(device)\n",
    "            output, conv1weight, conv2weight, fc1weight, _ = quantAwareTrainingForward(model, data, stats, num_bits=num_bits, act_quant=act_quant)\n",
    "            \n",
    "            model.conv1.weight.data = conv1weight\n",
    "            model.conv2.weight.data = conv2weight\n",
    "            model.fc1.weight.data = fc1weight\n",
    "\n",
    "            test_loss += F.nll_loss(output, target, reduction='sum').item() # sum up batch loss\n",
    "            pred = output.argmax(dim=1, keepdim=True) # get the index of the max log-probability\n",
    "            correct += pred.eq(target.view_as(pred)).sum().item()\n",
    "\n",
    "    test_loss /= len(test_loader.dataset)\n",
    "\n",
    "    print('\\nTest set: Average loss: {:.4f}, Accuracy: {}/{} ({:.0f}%)\\n'.format(\n",
    "        test_loss, correct, len(test_loader.dataset),\n",
    "        100. * correct / len(test_loader.dataset)))\n",
    "\n",
    "def mainQuantAware(mnist=True):\n",
    " \n",
    "    batch_size = 64\n",
    "    test_batch_size = 64\n",
    "    epochs = 10\n",
    "    lr = 0.01\n",
    "    momentum = 0.5\n",
    "    seed = 1\n",
    "    log_interval = 500\n",
    "    save_model = False\n",
    "    no_cuda = False\n",
    "    \n",
    "    use_cuda = not no_cuda and torch.cuda.is_available()\n",
    "\n",
    "    torch.manual_seed(seed)\n",
    "\n",
    "    device = torch.device(\"cuda\" if use_cuda else \"cpu\")\n",
    "\n",
    "    kwargs = {'num_workers': 1, 'pin_memory': True} if use_cuda else {}\n",
    "\n",
    "    if mnist:\n",
    "      train_loader = torch.utils.data.DataLoader(\n",
    "          datasets.MNIST('../data', train=True, download=True,\n",
    "                        transform=transforms.Compose([\n",
    "                            transforms.ToTensor(),\n",
    "                            transforms.Normalize((0.1307,), (0.3081,))\n",
    "                        ])),\n",
    "          batch_size=batch_size, shuffle=True, **kwargs)\n",
    "      \n",
    "      test_loader = torch.utils.data.DataLoader(\n",
    "          datasets.MNIST('../data', train=False, transform=transforms.Compose([\n",
    "                            transforms.ToTensor(),\n",
    "                            transforms.Normalize((0.1307,), (0.3081,))\n",
    "                        ])),\n",
    "          batch_size=test_batch_size, shuffle=True, **kwargs)\n",
    "    else:\n",
    "      transform = transforms.Compose(\n",
    "          [transforms.ToTensor(),\n",
    "          transforms.Normalize((0.5, 0.5, 0.5), (0.5, 0.5, 0.5))])\n",
    "\n",
    "      trainset = datasets.CIFAR10(root='./dataCifar', train=True,\n",
    "                                              download=True, transform=transform)\n",
    "      train_loader = torch.utils.data.DataLoader(trainset, batch_size=batch_size,\n",
    "                                                shuffle=True, num_workers=2)\n",
    "\n",
    "      testset = datasets.CIFAR10(root='./dataCifar', train=False,\n",
    "                                            download=True, transform=transform)\n",
    "      test_loader = torch.utils.data.DataLoader(testset, batch_size=test_batch_size,\n",
    "                                              shuffle=False, num_workers=2)\n",
    "          \n",
    "  \n",
    "    model = Net(mnist=mnist).to(device)\n",
    "    optimizer = optim.SGD(model.parameters(), lr=lr, momentum=momentum)\n",
    "    args = {}\n",
    "    args[\"log_interval\"] = log_interval\n",
    "    epochs = 5\n",
    "    num_bits=4\n",
    "    stats = {}\n",
    "    for epoch in range(1, epochs + 1):\n",
    "        if epoch > 5:\n",
    "          act_quant = True \n",
    "        else:\n",
    "          act_quant = False\n",
    "\n",
    "        stats = trainQuantAware(args, model, device, train_loader, optimizer, epoch, stats, act_quant, num_bits=num_bits)\n",
    "        testQuantAware(args, model, device, test_loader, stats, act_quant, num_bits=num_bits)\n",
    "\n",
    "    if (save_model):\n",
    "        torch.save(model.state_dict(),\"mnist_cnn.pt\")\n",
    "\n",
    "    return model, stats\n",
    "\n",
    "model, old_stats = mainQuantAware()\n"
   ]
  },
  {
   "cell_type": "markdown",
   "metadata": {
    "id": "DHGUF12BlAVW"
   },
   "source": [
    "# Test Quantization Aware Training"
   ]
  },
  {
   "cell_type": "code",
   "execution_count": 24,
   "metadata": {
    "id": "lOisGIdHthIt"
   },
   "outputs": [],
   "source": [
    "def testQuantAware(model, test_loader, stats=None, sym=False, num_bits=4):\n",
    "    model.eval()\n",
    "    test_loss = 0\n",
    "    correct = 0\n",
    "    with torch.no_grad():\n",
    "        for data, target in test_loader:\n",
    "            data, target = data.to(device), target.to(device)\n",
    "            output, conv1weight, conv2weight, fc1weight, _ = quantAwareTrainingForward(model, data, stats, num_bits=num_bits, act_quant=True, sym=False)\n",
    "            \n",
    "            model.conv1.weight.data = conv1weight\n",
    "            model.conv2.weight.data = conv2weight\n",
    "            model.fc1.weight.data = fc1weight\n",
    "\n",
    "            test_loss += F.nll_loss(output, target, reduction='sum').item() # sum up batch loss\n",
    "            pred = output.argmax(dim=1, keepdim=True) # get the index of the max log-probability\n",
    "            correct += pred.eq(target.view_as(pred)).sum().item()\n",
    "\n",
    "    test_loss /= len(test_loader.dataset)\n",
    "\n",
    "    print('\\nTest set: Average loss: {:.4f}, Accuracy: {}/{} ({:.0f}%)\\n'.format(\n",
    "        test_loss, correct, len(test_loader.dataset),\n",
    "        100. * correct / len(test_loader.dataset)))"
   ]
  },
  {
   "cell_type": "markdown",
   "metadata": {
    "id": "jeBhP7pZlPln"
   },
   "source": [
    "## Load Dataset"
   ]
  },
  {
   "cell_type": "code",
   "execution_count": 25,
   "metadata": {
    "id": "rgWoRSkNzJVM"
   },
   "outputs": [],
   "source": [
    "kwargs = {'num_workers': 1, 'pin_memory': True}\n",
    "test_loader = torch.utils.data.DataLoader(\n",
    "    datasets.MNIST('../data', train=False, transform=transforms.Compose([\n",
    "                       transforms.ToTensor(),\n",
    "                       transforms.Normalize((0.1307,), (0.3081,))\n",
    "                   ])),\n",
    "    batch_size=64, shuffle=True, **kwargs)"
   ]
  },
  {
   "cell_type": "markdown",
   "metadata": {
    "id": "ZJcX_UQYlSUo"
   },
   "source": [
    "## Test Quant Aware "
   ]
  },
  {
   "cell_type": "code",
   "execution_count": 26,
   "metadata": {
    "colab": {
     "base_uri": "https://localhost:8080/"
    },
    "id": "DxmD9WV_l2q2",
    "outputId": "7e657374-33e8-4eb2-b3f9-cdba96a20dd3"
   },
   "outputs": [
    {
     "name": "stdout",
     "output_type": "stream",
     "text": [
      "{'conv1': {'max': tensor(5754401.5000, device='cuda:0'), 'min': tensor(0., device='cuda:0'), 'total': 10950, 'ema_min': 0.0, 'ema_max': 8.698178429770678, 'min_val': tensor(0., device='cuda:0'), 'max_val': tensor(525.5161, device='cuda:0')}, 'conv2': {'max': tensor(9683397., device='cuda:0'), 'min': tensor(0., device='cuda:0'), 'total': 10950, 'ema_min': 0.0, 'ema_max': 16.086002980417707, 'min_val': tensor(0., device='cuda:0'), 'max_val': tensor(884.3285, device='cuda:0')}, 'fc1': {'max': tensor(5037771., device='cuda:0'), 'min': tensor(0., device='cuda:0'), 'total': 10950, 'ema_min': 0.0, 'ema_max': 8.728648361094647, 'min_val': tensor(0., device='cuda:0'), 'max_val': tensor(460.0704, device='cuda:0')}, 'fc2': {'max': tensor(9074338., device='cuda:0'), 'min': tensor(-5870226., device='cuda:0'), 'total': 10950, 'ema_min': -9.570814279184994, 'ema_max': 16.193538271593265, 'min_val': tensor(-536.0937, device='cuda:0'), 'max_val': tensor(828.7067, device='cuda:0')}}\n"
     ]
    }
   ],
   "source": [
    "print(old_stats)"
   ]
  },
  {
   "cell_type": "code",
   "execution_count": 27,
   "metadata": {
    "id": "Sj756_3-lKYy"
   },
   "outputs": [],
   "source": [
    "import copy\n",
    "q_model = copy.deepcopy(model)"
   ]
  },
  {
   "cell_type": "code",
   "execution_count": 28,
   "metadata": {
    "colab": {
     "base_uri": "https://localhost:8080/"
    },
    "id": "1eQC5VimyZF-",
    "outputId": "04b68fac-523d-4171-e803-8cb04ca6e027"
   },
   "outputs": [
    {
     "name": "stdout",
     "output_type": "stream",
     "text": [
      "\n",
      "Test set: Average loss: 0.0321, Accuracy: 9886/10000 (99%)\n",
      "\n"
     ]
    }
   ],
   "source": [
    "testQuantAware(q_model, test_loader, stats=old_stats, sym=False, num_bits=4)"
   ]
  },
  {
   "cell_type": "markdown",
   "metadata": {
    "id": "DbJj7GJKmXts"
   },
   "source": [
    "## Voila\n",
    "\n",
    "We're back to test accuracy."
   ]
  },
  {
   "cell_type": "markdown",
   "metadata": {
    "id": "qLMkNQnRpJQ_"
   },
   "source": [
    "# Vis 2 bit Model Weights"
   ]
  },
  {
   "cell_type": "code",
   "execution_count": 29,
   "metadata": {
    "colab": {
     "base_uri": "https://localhost:8080/",
     "height": 503
    },
    "id": "ZUdw2hD7zdiM",
    "outputId": "6b541bce-6031-42e8-d63b-138ee8b3149e"
   },
   "outputs": [
    {
     "data": {
      "image/png": "[encoded data removed]",
      "text/plain": [
       "<Figure size 1440x720 with 10 Axes>"
      ]
     },
     "metadata": {
      "needs_background": "light",
      "tags": []
     },
     "output_type": "display_data"
    }
   ],
   "source": [
    "import matplotlib.pyplot as plt\n",
    "# run through one example and plot weights and activations quantised in real time\n",
    "device = 'cuda'\n",
    "fig, axs = plt.subplots(2, 5, figsize=(20, 10))\n",
    "with torch.no_grad():\n",
    "    for data, target in test_loader:\n",
    "        data, target = data.to(device), target.to(device)\n",
    "        quantForward(q_model, data, old_stats, vis=True, axs=axs, sym=False, num_bits=4)\n",
    "#         output = quantAwareTrainingForward(q_model, data, old_stats, vis=True, axs=axs, sym=False, num_bits=2, act_quant=True)\n",
    "        break\n",
    "plt.show()"
   ]
  },
  {
   "cell_type": "code",
   "execution_count": 29,
   "metadata": {
    "id": "wQrapOtFWWtY"
   },
   "outputs": [],
   "source": []
  }
 ],
 "metadata": {
  "accelerator": "GPU",
  "colab": {
   "collapsed_sections": [
    "9QXsrr6Mp5e_",
    "1EWDw3bip8Ie",
    "vFM8UV9CreIX",
    "xXkTAJ9ws1Y6",
    "OgkWg605tE1y",
    "OBt0WDzyujnk",
    "xC96eesMqYo-",
    "mszPTrYOluym",
    "VTHK-wAWV57B"
   ],
   "name": "quantAwareTrain.ipynb",
   "provenance": []
  },
  "kernelspec": {
   "display_name": "Python 3",
   "language": "python",
   "name": "python3"
  },
  "language_info": {
   "codemirror_mode": {
    "name": "ipython",
    "version": 3
   },
   "file_extension": ".py",
   "mimetype": "text/x-python",
   "name": "python",
   "nbconvert_exporter": "python",
   "pygments_lexer": "ipython3",
   "version": "3.7.1"
  }
 },
 "nbformat": 4,
 "nbformat_minor": 1
}
